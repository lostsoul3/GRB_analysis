{
 "cells": [
  {
   "cell_type": "markdown",
   "metadata": {},
   "source": [
    "Here are the relevant columns you need to know\n",
    "\n",
    "Col 2 T90\n",
    "\n",
    "Col 3 error in T90\n",
    "\n",
    "Col 4 fluence in 20-50 keV (F1)\n",
    "\n",
    "Col  5 error in fluence in 20- 50 keV  (eF1)\n",
    "\n",
    "Col 6  fluence in 50- 100 keV (F2)\n",
    "\n",
    "Col 7  error in  fluence in 50- 100 keV (eF2)\n",
    "\n",
    "For T90 use Col 2\n",
    "\n",
    "So hardness ratio for BATSE will be F2/F1 or Col 6/Col 4\n",
    "\n",
    "and ln(hardness) would  ln (col6/col4)\n",
    "\n",
    "For our analysis since we only need the error in ln(hardness) we can do error propagation to calculate this\n",
    "\n",
    "error in ln(hardness) = Error [ ln(f2) -ln(F1)]\n",
    "                                 = sqrt [ (eF2/F2)^2 + (eF1/F1)^2]\n",
    "\n"
   ]
  },
  {
   "cell_type": "code",
   "execution_count": 1,
   "metadata": {},
   "outputs": [],
   "source": [
    "import pandas as pd\n",
    "import numpy as np\n",
    "import math\n",
    "from sklearn.mixture import GaussianMixture\n",
    "from matplotlib import pyplot as plt\n",
    "#from astroML.plotting.tools import draw_ellipse\n",
    "import itertools\n",
    "from scipy import linalg\n",
    "import matplotlib as mpl\n",
    "from matplotlib.colors import LogNorm\n",
    "from sklearn import mixture\n",
    "from xdgmm import XDGMM\n",
    "# from astroML.density_estimation import XDGMM"
   ]
  },
  {
   "cell_type": "code",
   "execution_count": 2,
   "metadata": {},
   "outputs": [
    {
     "name": "stdout",
     "output_type": "stream",
     "text": [
      "[1.0500e+02 5.1840e+00 1.8100e-01 8.6850e-07 1.0887e-08 1.3209e-06\n",
      " 1.4368e-08 2.0468e-06 1.7931e-07 1.0321e-06 1.7931e-07 1.2761e+01\n",
      " 5.4400e-01 3.8400e+00 1.1857e+01 2.6500e-01 3.8400e+00 9.9370e+00\n",
      " 1.2300e-01 4.1600e+00]\n"
     ]
    }
   ],
   "source": [
    "arr = np.genfromtxt(\"batse_final_catalog.txt\", dtype=float,delimiter = \" \")\n",
    "print(arr[0,:])\n",
    "\n",
    "COLUMN_T90_ERROR = 2\n",
    "COLUMN_T90 = 1\n",
    "COLUMN_FLUENCE_50_100 = 5\n",
    "COLUMN_FLUENCE_25_50 = 3\n",
    "COLUMN_FLUENCE_50_100_ERROR = 6\n",
    "COLUMN_FLUENCE_25_50_ERROR = 4"
   ]
  },
  {
   "cell_type": "code",
   "execution_count": 3,
   "metadata": {},
   "outputs": [
    {
     "name": "stdout",
     "output_type": "stream",
     "text": [
      "1934\n"
     ]
    }
   ],
   "source": [
    "t90=[]\n",
    "hr=[]\n",
    "dt90=[]\n",
    "dhr=[]\n",
    "\n",
    "for i in range(len(arr)):\n",
    "    hr_ratio = 0\n",
    "    if arr[i][COLUMN_FLUENCE_25_50] > 0:\n",
    "        hr_ratio = arr[i][COLUMN_FLUENCE_50_100] / arr[i][COLUMN_FLUENCE_25_50]\n",
    "    \n",
    "    if arr[i][COLUMN_T90] > 0 and hr_ratio > 0 and arr[i][COLUMN_FLUENCE_50_100] > 0 and arr[i][COLUMN_FLUENCE_25_50] > 0:\n",
    "        t90.append(math.log(arr[i][COLUMN_T90]))\n",
    "        hr.append(math.log(hr_ratio))\n",
    "        err_hr_50_100 = (arr[i][COLUMN_FLUENCE_50_100_ERROR]/arr[i][COLUMN_FLUENCE_50_100])\n",
    "        err_hr_25_50 = (arr[i][COLUMN_FLUENCE_25_50_ERROR]/arr[i][COLUMN_FLUENCE_25_50])\n",
    "        error_hr = math.sqrt(err_hr_50_100 ** 2 +  err_hr_25_50** 2)\n",
    "        dhr.append(error_hr)\n",
    "        dt90.append((arr[i][COLUMN_T90_ERROR]))\n",
    "print(len(dt90))"
   ]
  },
  {
   "cell_type": "code",
   "execution_count": 5,
   "metadata": {},
   "outputs": [],
   "source": [
    "# stack the data \n",
    "X = np.vstack([t90, hr]).T\n",
    "X = X[~np.isnan(X).any(axis=1)]\n",
    "X = X[np.isfinite(X).any(axis=1)]\n",
    "\n",
    "#change list to matrix\n",
    "mat_dt90 = np.zeros(len(dt90))\n",
    "mat_dhr = np.zeros(len(dhr))\n",
    "for i in range(len(dhr)):\n",
    "    mat_dt90[i] = dt90[i]\n",
    "    mat_dhr[i] = dhr[i]\n",
    "\n",
    "# stack data error\n",
    "Xerr = np.zeros(X.shape + X.shape[-1:])\n",
    "diag = np.arange(X.shape[-1])\n",
    "Xerr[:, diag, diag] = np.vstack([mat_dt90**2, mat_dhr**2]).T"
   ]
  },
  {
   "cell_type": "code",
   "execution_count": 6,
   "metadata": {},
   "outputs": [],
   "source": [
    "# Define the range of component numbers, and get ready to compute the BIC for each one:\n",
    "param_range = np.arange(1,6)\n",
    "xdgmm = XDGMM()\n"
   ]
  },
  {
   "cell_type": "code",
   "execution_count": 7,
   "metadata": {},
   "outputs": [
    {
     "name": "stdout",
     "output_type": "stream",
     "text": [
      "N = 1 , BIC = 11681.694253751182\n",
      "N = 2 , BIC = 11542.530399212024\n",
      "N = 3 , BIC = 11536.868184273302\n",
      "N = 4 , BIC = 11575.227060381769\n"
     ]
    },
    {
     "name": "stderr",
     "output_type": "stream",
     "text": [
      "/Library/Frameworks/Python.framework/Versions/3.6/lib/python3.6/site-packages/sklearn/mixture/_base.py:269: ConvergenceWarning: Initialization 1 did not converge. Try different init parameters, or increase max_iter, tol or check for degenerate data.\n",
      "  % (init + 1), ConvergenceWarning)\n"
     ]
    },
    {
     "name": "stdout",
     "output_type": "stream",
     "text": [
      "N = 5 , BIC = 11616.852401669934\n",
      "N = 1 , BIC = 11681.694253751182\n",
      "N = 2 , BIC = 11542.530399212024\n",
      "N = 3 , BIC = 11537.026198474061\n",
      "N = 4 , BIC = 11575.41452608835\n"
     ]
    },
    {
     "name": "stderr",
     "output_type": "stream",
     "text": [
      "/Library/Frameworks/Python.framework/Versions/3.6/lib/python3.6/site-packages/sklearn/mixture/_base.py:269: ConvergenceWarning: Initialization 1 did not converge. Try different init parameters, or increase max_iter, tol or check for degenerate data.\n",
      "  % (init + 1), ConvergenceWarning)\n"
     ]
    },
    {
     "name": "stdout",
     "output_type": "stream",
     "text": [
      "N = 5 , BIC = 11611.208766119333\n"
     ]
    }
   ],
   "source": [
    "bic, optimal_n_comp, lowest_bic = xdgmm.bic_test(X, Xerr, param_range)\n",
    "aic, optimal_aic_n_comp, lowest_aic = xdgmm.aic_test(X, Xerr, param_range)"
   ]
  },
  {
   "cell_type": "code",
   "execution_count": 22,
   "metadata": {},
   "outputs": [],
   "source": []
  },
  {
   "cell_type": "code",
   "execution_count": 23,
   "metadata": {},
   "outputs": [
    {
     "name": "stdout",
     "output_type": "stream",
     "text": [
      "N = 1 , AIC = 16456.27343476342\n",
      "N = 2 , AIC = 16468.27343476342\n",
      "N = 3 , AIC = 16480.27343476342\n",
      "N = 4 , AIC = 16492.27343476342\n",
      "N = 5 , AIC = 16504.27343476342\n"
     ]
    }
   ],
   "source": [
    "\n",
    "\n"
   ]
  },
  {
   "cell_type": "markdown",
   "metadata": {},
   "source": [
    "https://www.astroml.org/book_figures/chapter6/fig_stellar_XD.html"
   ]
  },
  {
   "cell_type": "code",
   "execution_count": 31,
   "metadata": {},
   "outputs": [
    {
     "data": {
      "image/png": "[encoded data removed]",
      "text/plain": [
       "<matplotlib.figure.Figure at 0x7fba9bc4aa90>"
      ]
     },
     "metadata": {},
     "output_type": "display_data"
    }
   ],
   "source": [
    "plt.plot(param_range, aics, '-k', label='AIC',color ='blue', marker='o',lw=2)\n",
    "plt.plot(param_range, bic, ':k', label='BIC', color = 'red', marker='^',lw=2)\n",
    "plt.legend(loc=1)\n",
    "plt.xlabel('Number of components',size=20 )\n",
    "plt.ylabel('AIC/BIC', size=20)\n",
    "plt.show()"
   ]
  },
  {
   "cell_type": "code",
   "execution_count": null,
   "metadata": {},
   "outputs": [],
   "source": []
  }
 ],
 "metadata": {
  "kernelspec": {
   "display_name": "Python 3",
   "language": "python",
   "name": "python3"
  },
  "language_info": {
   "codemirror_mode": {
    "name": "ipython",
    "version": 3
   },
   "file_extension": ".py",
   "mimetype": "text/x-python",
   "name": "python",
   "nbconvert_exporter": "python",
   "pygments_lexer": "ipython3",
   "version": "3.6.8"
  }
 },
 "nbformat": 4,
 "nbformat_minor": 2
}
