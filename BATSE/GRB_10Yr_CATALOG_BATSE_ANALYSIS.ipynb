{
 "cells": [
  {
   "cell_type": "markdown",
   "metadata": {},
   "source": [
    "The columns from left to right are name, hr, sigma_hr, T90 (or T50), sigma_T90\n",
    "\n",
    "I suggest you work with T90.\n",
    "\n",
    "Also note that if you have upgraded your sklearn, you will need to upgrade your codes to \n",
    "\n",
    "as GMM is now GaussianMixtureModels etc.\n",
    "\n",
    "You can do two tests\n",
    "\n",
    "1) without any outlier rejection\n",
    "\n",
    "2) rejecting datapoints with large errors (with  rejecting values with error/value > 30% \n",
    "\n",
    "you can also try using Extreme Deconvolution (which accounts for errors while using GMM)"
   ]
  },
  {
   "cell_type": "code",
   "execution_count": 6,
   "metadata": {},
   "outputs": [],
   "source": [
    "import pandas as pd\n",
    "import numpy as np\n",
    "import math\n",
    "from sklearn.mixture import GaussianMixture\n",
    "from matplotlib import pyplot as plt\n",
    "#from astroML.plotting.tools import draw_ellipse\n",
    "import itertools\n",
    "from scipy import linalg\n",
    "import matplotlib as mpl\n",
    "from matplotlib.colors import LogNorm\n",
    "from sklearn import mixture\n",
    "from xdgmm import XDGMM\n",
    "# from astroML.density_estimation import XDGMM"
   ]
  },
  {
   "cell_type": "code",
   "execution_count": 7,
   "metadata": {},
   "outputs": [
    {
     "name": "stdout",
     "output_type": "stream",
     "text": [
      "2330\n"
     ]
    }
   ],
   "source": [
    "arr = np.genfromtxt(\"hrdata_10yr_T90_Final_w_err copy.txt\", dtype=float,delimiter = \"\\t\")\n",
    "print(len(arr))"
   ]
  },
  {
   "cell_type": "code",
   "execution_count": 9,
   "metadata": {},
   "outputs": [
    {
     "name": "stdout",
     "output_type": "stream",
     "text": [
      "2329\n"
     ]
    }
   ],
   "source": [
    "t90=[]\n",
    "hr=[]\n",
    "dt90=[]\n",
    "dhr=[]\n",
    "COLUMN_T90_ERROR = 4\n",
    "COLUMN_T90 = 3\n",
    "COLUMN_HR_ERROR = 2\n",
    "COLUMN_HR = 1\n",
    "for i in range(len(arr)):\n",
    "    if arr[i][3] > 0 and arr[i][1] > 0:\n",
    "        t90.append(math.log(arr[i][3]))\n",
    "        hr.append(math.log(arr[i][1]))\n",
    "        dhr.append(arr[i][2] / arr[i][1])\n",
    "        dt90.append((arr[i][4]/arr[i][3]))\n",
    "print(len(dt90))"
   ]
  },
  {
   "cell_type": "code",
   "execution_count": 10,
   "metadata": {},
   "outputs": [],
   "source": [
    "# stack the data \n",
    "X = np.vstack([t90, hr]).T\n",
    "X = X[~np.isnan(X).any(axis=1)]\n",
    "X = X[np.isfinite(X).any(axis=1)]\n",
    "\n",
    "#change list to matrix\n",
    "mat_dt90 = np.zeros(len(dt90))\n",
    "mat_dhr = np.zeros(len(dhr))\n",
    "for i in range(len(dhr)):\n",
    "    mat_dt90[i] = dt90[i]\n",
    "    mat_dhr[i] = dhr[i]\n",
    "\n",
    "# stack data error\n",
    "Xerr = np.zeros(X.shape + X.shape[-1:])\n",
    "diag = np.arange(X.shape[-1])\n",
    "Xerr[:, diag, diag] = np.vstack([mat_dt90**2, mat_dhr**2]).T"
   ]
  },
  {
   "cell_type": "code",
   "execution_count": 11,
   "metadata": {},
   "outputs": [],
   "source": [
    "# Define the range of component numbers, and get ready to compute the BIC for each one:\n",
    "param_range = np.arange(1,6)\n",
    "xdgmm = XDGMM()\n"
   ]
  },
  {
   "cell_type": "code",
   "execution_count": 18,
   "metadata": {},
   "outputs": [
    {
     "name": "stdout",
     "output_type": "stream",
     "text": [
      "N = 1 , BIC = 13406.952679253236\n",
      "N = 2 , BIC = 13036.841864432005\n",
      "N = 3 , BIC = 13039.04293994136\n",
      "N = 4 , BIC = 13084.891678461834\n"
     ]
    },
    {
     "name": "stderr",
     "output_type": "stream",
     "text": [
      "/usr/local/lib/python2.7/dist-packages/sklearn/mixture/base.py:237: ConvergenceWarning: Initialization 1 did not converge. Try different init parameters, or increase max_iter, tol or check for degenerate data.\n",
      "  % (init + 1), ConvergenceWarning)\n"
     ]
    },
    {
     "name": "stdout",
     "output_type": "stream",
     "text": [
      "N = 5 , BIC = 13114.473580954555\n"
     ]
    }
   ],
   "source": [
    "bic, optimal_n_comp, lowest_bic = xdgmm.bic_test(X, Xerr, param_range)"
   ]
  },
  {
   "cell_type": "code",
   "execution_count": 16,
   "metadata": {},
   "outputs": [],
   "source": [
    "# aic, optimal_n_comp, lowest_aic = xdgmm.aic_test(X, Xerr, param_range)\n",
    "def aic(X, Xerr,n_components,xdgmm):\n",
    "    logprob, _ = xdgmm.score_samples(X, Xerr)\n",
    "    ndim = xdgmm.mu.shape[1]\n",
    "    cov_params = n_components * ndim * (ndim + 1) / 2.\n",
    "    mean_params = ndim * n_components\n",
    "    n_params = int(cov_params + mean_params + n_components - 1)\n",
    "\n",
    "    return -2 * logprob.sum() + 2 * n_params\n",
    "\n"
   ]
  },
  {
   "cell_type": "code",
   "execution_count": 21,
   "metadata": {},
   "outputs": [
    {
     "name": "stdout",
     "output_type": "stream",
     "text": [
      "N = 1 , AIC = 13378.186707903815\n",
      "N = 2 , AIC = 13390.186707903815\n",
      "N = 3 , AIC = 13402.186707903815\n",
      "N = 4 , AIC = 13414.186707903815\n",
      "N = 5 , AIC = 13426.186707903815\n"
     ]
    }
   ],
   "source": [
    "import numpy as np\n",
    "xdgmm = XDGMM()\n",
    "param_range = np.arange(1,6)\n",
    "aics = np.array([])\n",
    "lowest_aic = np.infty\n",
    "optimal_n_comp = 0\n",
    "for n_components in param_range:\n",
    "    n = n_components\n",
    "    xdgmm.fit(X, Xerr)\n",
    "    aics = np.append(aics, aic(X, Xerr,n,xdgmm))\n",
    "    print \"N =\", n_components, \", AIC =\", aics[-1]\n",
    "    if aics[-1] < lowest_aic:\n",
    "        optimal_n_comp = n_components\n",
    "        lowest_aic = aics[-1]\n",
    "\n"
   ]
  },
  {
   "cell_type": "markdown",
   "metadata": {},
   "source": [
    "https://www.astroml.org/book_figures/chapter6/fig_stellar_XD.html"
   ]
  },
  {
   "cell_type": "code",
   "execution_count": 22,
   "metadata": {},
   "outputs": [
    {
     "data": {
      "image/png": "[encoded data removed]",
      "text/plain": [
       "<matplotlib.figure.Figure at 0x7fd63ebf0610>"
      ]
     },
     "metadata": {},
     "output_type": "display_data"
    }
   ],
   "source": [
    "plt.plot(param_range, aics, '-k', label='AIC',color ='blue', marker='o',lw=2)\n",
    "plt.plot(param_range, bic, ':k', label='BIC', color = 'red', marker='^',lw=2)\n",
    "plt.legend(loc=1)\n",
    "plt.xlabel('Number of components',size=20 )\n",
    "plt.ylabel('AIC/BIC', size=20)\n",
    "plt.show()"
   ]
  },
  {
   "cell_type": "code",
   "execution_count": null,
   "metadata": {},
   "outputs": [],
   "source": []
  }
 ],
 "metadata": {
  "kernelspec": {
   "display_name": "Python 2",
   "language": "python",
   "name": "python2"
  },
  "language_info": {
   "codemirror_mode": {
    "name": "ipython",
    "version": 2
   },
   "file_extension": ".py",
   "mimetype": "text/x-python",
   "name": "python",
   "nbconvert_exporter": "python",
   "pygments_lexer": "ipython2",
   "version": "2.7.17"
  }
 },
 "nbformat": 4,
 "nbformat_minor": 2
}