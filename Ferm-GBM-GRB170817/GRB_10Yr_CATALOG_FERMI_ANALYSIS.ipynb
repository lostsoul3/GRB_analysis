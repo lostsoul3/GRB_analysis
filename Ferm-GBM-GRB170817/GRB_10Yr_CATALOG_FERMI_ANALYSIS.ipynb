{
 "cells": [
  {
   "cell_type": "markdown",
   "metadata": {},
   "source": [
    "The columns from left to right are name, hr, sigma_hr, T90 (or T50), sigma_T90\n",
    "\n",
    "I suggest you work with T90.\n",
    "\n",
    "Also note that if you have upgraded your sklearn, you will need to upgrade your codes to \n",
    "\n",
    "as GMM is now GaussianMixtureModels etc.\n",
    "\n",
    "You can do two tests\n",
    "\n",
    "1) without any outlier rejection\n",
    "\n",
    "2) rejecting datapoints with large errors (with  rejecting values with error/value > 30% \n",
    "\n",
    "you can also try using Extreme Deconvolution (which accounts for errors while using GMM)"
   ]
  },
  {
   "cell_type": "code",
   "execution_count": 68,
   "metadata": {},
   "outputs": [],
   "source": [
    "# import pandas as pd\n",
    "import numpy as np\n",
    "import math\n",
    "from sklearn.mixture import GaussianMixture\n",
    "from matplotlib import pyplot as plt\n",
    "#from astroML.plotting.tools import draw_ellipse\n",
    "import itertools\n",
    "from scipy import linalg\n",
    "import matplotlib as mpl\n",
    "from matplotlib.colors import LogNorm\n",
    "from sklearn import mixture\n",
    "from xdgmm import XDGMM\n",
    "# from astroML.density_estimation import XDGMM"
   ]
  },
  {
   "cell_type": "code",
   "execution_count": 69,
   "metadata": {},
   "outputs": [
    {
     "name": "stdout",
     "output_type": "stream",
     "text": [
      "[        nan -0.05794558  0.40968589  0.064       0.0715542 ]\n"
     ]
    }
   ],
   "source": [
    "arr = np.genfromtxt(\"hrdata_10yr_T90_Final_w_err copy.txt\", dtype=float,delimiter = \"\\t\")\n",
    "print(arr[503])"
   ]
  },
  {
   "cell_type": "code",
   "execution_count": 70,
   "metadata": {},
   "outputs": [
    {
     "name": "stdout",
     "output_type": "stream",
     "text": [
      "Error for this GRB [        nan -0.05794558  0.40968589  0.064       0.0715542 ] at index 503 is more than 0.3\n",
      "2329\n"
     ]
    }
   ],
   "source": [
    "t90=[]\n",
    "hr=[]\n",
    "dt90=[]\n",
    "dhr=[]\n",
    "COLUMN_T90_ERROR = 4\n",
    "COLUMN_T90 = 3\n",
    "COLUMN_HR_ERROR = 2\n",
    "COLUMN_HR = 1\n",
    "for i in range(len(arr)):\n",
    "    if arr[i][1] > 0 and arr[i][3] > 0:\n",
    "        t90.append(math.log(arr[i][3]))\n",
    "        hr.append(math.log(arr[i][1]))\n",
    "        dhr.append(arr[i][2] / arr[i][1])\n",
    "        dt90.append((arr[i][4]/arr[i][3]))\n",
    "    else:\n",
    "        print(\"Error for this GRB {} at index {} is more than 0.3\".format(arr[i], i))\n",
    "print(len(dt90))"
   ]
  },
  {
   "cell_type": "code",
   "execution_count": 71,
   "metadata": {},
   "outputs": [],
   "source": [
    "# stack the data \n",
    "X = np.vstack([t90, hr]).T\n",
    "X = X[~np.isnan(X).any(axis=1)]\n",
    "X = X[np.isfinite(X).any(axis=1)]\n",
    "\n",
    "#change list to matrix\n",
    "mat_dt90 = np.zeros(len(dt90))\n",
    "mat_dhr = np.zeros(len(dhr))\n",
    "for i in range(len(dhr)):\n",
    "    mat_dt90[i] = dt90[i]\n",
    "    mat_dhr[i] = dhr[i]\n",
    "\n",
    "# stack data error\n",
    "Xerr = np.zeros(X.shape + X.shape[-1:])\n",
    "diag = np.arange(X.shape[-1])\n",
    "Xerr[:, diag, diag] = np.vstack([mat_dt90**2, mat_dhr**2]).T"
   ]
  },
  {
   "cell_type": "code",
   "execution_count": 72,
   "metadata": {},
   "outputs": [],
   "source": [
    "# Define the range of component numbers, and get ready to compute the BIC for each one:\n",
    "param_range = np.arange(1,6)\n",
    "xdgmm = XDGMM()\n"
   ]
  },
  {
   "cell_type": "code",
   "execution_count": 73,
   "metadata": {},
   "outputs": [
    {
     "name": "stdout",
     "output_type": "stream",
     "text": [
      "N = 1 , BIC = 13406.952679253236\n",
      "N = 2 , BIC = 13036.842007520694\n",
      "N = 3 , BIC = 13039.040673659332\n",
      "N = 4 , BIC = 13084.89395892745\n",
      "N = 5 , BIC = 13116.508127179086\n",
      "N = 1 , AIC = 13378.186707903815\n",
      "N = 2 , AIC = 12973.556727463278\n",
      "N = 3 , AIC = 12941.264222125144\n",
      "N = 4 , AIC = 12952.568210254492\n",
      "N = 5 , AIC = 12949.665493352437\n"
     ]
    }
   ],
   "source": [
    "bic, optimal_n_comp, lowest_bic = xdgmm.bic_test(X, Xerr, param_range)\n",
    "aic, optimal_n_comp, lowest_aic = xdgmm.aic_test(X, Xerr, param_range)"
   ]
  },
  {
   "cell_type": "code",
   "execution_count": null,
   "metadata": {},
   "outputs": [],
   "source": [
    "\n"
   ]
  },
  {
   "cell_type": "markdown",
   "metadata": {},
   "source": [
    "https://www.astroml.org/book_figures/chapter6/fig_stellar_XD.html"
   ]
  },
  {
   "cell_type": "code",
   "execution_count": 74,
   "metadata": {},
   "outputs": [
    {
     "data": {
      "image/png": "[encoded data removed]",
      "text/plain": [
       "<Figure size 432x288 with 1 Axes>"
      ]
     },
     "metadata": {
      "needs_background": "light"
     },
     "output_type": "display_data"
    }
   ],
   "source": [
    "plt.plot(param_range, aic, '-k', label='AIC',color ='blue', marker='o',lw=2)\n",
    "plt.plot(param_range, bic, ':k', label='BIC', color = 'red', marker='^',lw=2)\n",
    "plt.legend(loc=1)\n",
    "plt.xlabel('Number of components',size=20 )\n",
    "plt.ylabel('AIC/BIC', size=20)\n",
    "plt.show()"
   ]
  },
  {
   "cell_type": "code",
   "execution_count": null,
   "metadata": {},
   "outputs": [],
   "source": []
  }
 ],
 "metadata": {
  "kernelspec": {
   "display_name": "Python 3",
   "language": "python",
   "name": "python3"
  },
  "language_info": {
   "codemirror_mode": {
    "name": "ipython",
    "version": 3
   },
   "file_extension": ".py",
   "mimetype": "text/x-python",
   "name": "python",
   "nbconvert_exporter": "python",
   "pygments_lexer": "ipython3",
   "version": "3.6.8"
  }
 },
 "nbformat": 4,
 "nbformat_minor": 2
}
