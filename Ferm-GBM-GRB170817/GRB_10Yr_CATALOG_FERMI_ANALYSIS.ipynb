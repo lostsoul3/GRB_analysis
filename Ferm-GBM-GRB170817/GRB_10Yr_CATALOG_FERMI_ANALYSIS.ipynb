{
 "cells": [
  {
   "cell_type": "markdown",
   "metadata": {},
   "source": [
    "The columns from left to right are name, hr, sigma_hr, T90 (or T50), sigma_T90\n",
    "\n",
    "I suggest you work with T90.\n",
    "\n",
    "Also note that if you have upgraded your sklearn, you will need to upgrade your codes to \n",
    "\n",
    "as GMM is now GaussianMixtureModels etc.\n",
    "\n",
    "You can do two tests\n",
    "\n",
    "1) without any outlier rejection\n",
    "\n",
    "2) rejecting datapoints with large errors (with  rejecting values with error/value > 30% \n",
    "\n",
    "you can also try using Extreme Deconvolution (which accounts for errors while using GMM)"
   ]
  },
  {
   "cell_type": "code",
   "execution_count": 12,
   "metadata": {},
   "outputs": [],
   "source": [
    "import pandas as pd\n",
    "import numpy as np\n",
    "import math\n",
    "from sklearn.mixture import GaussianMixture\n",
    "from matplotlib import pyplot as plt\n",
    "#from astroML.plotting.tools import draw_ellipse\n",
    "import itertools\n",
    "from scipy import linalg\n",
    "import matplotlib as mpl\n",
    "from matplotlib.colors import LogNorm\n",
    "from sklearn import mixture\n",
    "# from xdgmm import XDGMM\n",
    "from astroML.density_estimation import XDGMM"
   ]
  },
  {
   "cell_type": "code",
   "execution_count": 2,
   "metadata": {},
   "outputs": [
    {
     "name": "stdout",
     "output_type": "stream",
     "text": [
      "[[           nan 1.63549331e+00 1.61213324e+00 5.37599993e+00\n",
      "  2.36019993e+00]\n",
      " [           nan 1.00478042e+00 2.31759034e+00 4.01920013e+01\n",
      "  1.14487004e+00]\n",
      " [           nan 9.21419840e-01 1.96723148e-02 5.96487007e+01\n",
      "  1.12757998e+01]\n",
      " ...\n",
      " [           nan 2.68814913e-01 1.90098389e-04 3.81440010e+01\n",
      "  1.14487004e+00]\n",
      " [           nan 4.71753218e-01 1.86328835e-02 1.10080004e+01\n",
      "  1.27999997e+00]\n",
      " [           nan 7.77065105e-01 4.92472397e-02 9.01119995e+01\n",
      "  3.20766997e+00]]\n"
     ]
    }
   ],
   "source": [
    "arr = np.genfromtxt(\"hrdata_10yr_T90_Final_w_err copy.txt\", dtype=float,delimiter = \"\\t\")\n",
    "print(arr)"
   ]
  },
  {
   "cell_type": "code",
   "execution_count": 3,
   "metadata": {},
   "outputs": [],
   "source": [
    "t90=[]\n",
    "hr=[]\n",
    "dt90=[]\n",
    "dhr=[]\n",
    "\n",
    "for i in range(len(arr)):\n",
    "    if arr[i][3] > 0 and arr[i][1] > 0:\n",
    "        t90.append(math.log(arr[i][3]))\n",
    "        hr.append(math.log(arr[i][1]))\n",
    "        dhr.append(arr[i][1] / arr[i][2])\n",
    "        dt90.append((arr[i][3]/arr[i][4]))"
   ]
  },
  {
   "cell_type": "code",
   "execution_count": 4,
   "metadata": {},
   "outputs": [
    {
     "name": "stdout",
     "output_type": "stream",
     "text": [
      "[[ 1.68194459  0.49194448]\n",
      " [ 3.693668    0.00476903]\n",
      " [ 4.08847237 -0.08183949]\n",
      " ...\n",
      " [ 3.6413685  -1.31373219]\n",
      " [ 2.39862232 -0.75129927]\n",
      " [ 4.50105334 -0.25223114]]\n"
     ]
    }
   ],
   "source": [
    "# stack the data \n",
    "X = np.vstack([t90, hr]).T\n",
    "X = X[~np.isnan(X).any(axis=1)]\n",
    "X = X[np.isfinite(X).any(axis=1)]\n",
    "\n",
    "# stack data error\n",
    "Xerr = np.zeros(X.shape + X.shape[-1:])\n",
    "diag = np.arange(X.shape[-1])\n",
    "Xerr[:, diag, diag] = np.vstack([dt90, dhr]).T\n",
    "\n",
    "print X"
   ]
  },
  {
   "cell_type": "code",
   "execution_count": 5,
   "metadata": {},
   "outputs": [
    {
     "name": "stdout",
     "output_type": "stream",
     "text": [
      "N = 1 , BIC = 23093.121463997013\n",
      "N = 2 , BIC = 22979.55883233428\n",
      "N = 3 , BIC = 23024.3292499457\n",
      "N = 4 , BIC = 23043.14823485075\n"
     ]
    },
    {
     "name": "stderr",
     "output_type": "stream",
     "text": [
      "/usr/local/lib/python2.7/dist-packages/sklearn/mixture/base.py:237: ConvergenceWarning: Initialization 1 did not converge. Try different init parameters, or increase max_iter, tol or check for degenerate data.\n",
      "  % (init + 1), ConvergenceWarning)\n"
     ]
    },
    {
     "name": "stdout",
     "output_type": "stream",
     "text": [
      "N = 5 , BIC = 23053.35524038397\n"
     ]
    }
   ],
   "source": [
    "# Define the range of component numbers, and get ready to compute the BIC for each one:\n",
    "param_range = np.arange(1,6)\n",
    "xdgmm = XDGMM()\n",
    "bic, optimal_n_comp, lowest_bic = xdgmm.bic_test(X, Xerr, param_range)"
   ]
  },
  {
   "cell_type": "code",
   "execution_count": 13,
   "metadata": {},
   "outputs": [],
   "source": []
  },
  {
   "cell_type": "code",
   "execution_count": null,
   "metadata": {},
   "outputs": [],
   "source": []
  },
  {
   "cell_type": "code",
   "execution_count": null,
   "metadata": {},
   "outputs": [],
   "source": [
    "plt.plot(param_range, bic, ':k', label='BIC', color = 'red', marker='^',lw=2)\n",
    "plt.legend(loc=1)\n",
    "plt.xlabel('Number of components',size=20 )\n",
    "plt.ylabel('AIC/BIC', size=20)\n",
    "plt.show()"
   ]
  }
 ],
 "metadata": {
  "kernelspec": {
   "display_name": "Python 2",
   "language": "python",
   "name": "python2"
  },
  "language_info": {
   "codemirror_mode": {
    "name": "ipython",
    "version": 2
   },
   "file_extension": ".py",
   "mimetype": "text/x-python",
   "name": "python",
   "nbconvert_exporter": "python",
   "pygments_lexer": "ipython2",
   "version": "2.7.17"
  }
 },
 "nbformat": 4,
 "nbformat_minor": 2
}
