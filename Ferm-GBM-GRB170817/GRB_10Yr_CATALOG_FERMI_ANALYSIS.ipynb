{
 "cells": [
  {
   "cell_type": "markdown",
   "metadata": {},
   "source": [
    "The columns from left to right are name, hr, sigma_hr, T90 (or T50), sigma_T90\n",
    "\n",
    "I suggest you work with T90.\n",
    "\n",
    "Also note that if you have upgraded your sklearn, you will need to upgrade your codes to \n",
    "\n",
    "as GMM is now GaussianMixtureModels etc.\n",
    "\n",
    "You can do two tests\n",
    "\n",
    "1) without any outlier rejection\n",
    "\n",
    "2) rejecting datapoints with large errors (with  rejecting values with error/value > 30% \n",
    "\n",
    "you can also try using Extreme Deconvolution (which accounts for errors while using GMM)"
   ]
  },
  {
   "cell_type": "code",
   "execution_count": 1,
   "metadata": {},
   "outputs": [],
   "source": [
    "# import pandas as pd\n",
    "import numpy as np\n",
    "import math\n",
    "from sklearn.mixture import GaussianMixture\n",
    "from matplotlib import pyplot as plt\n",
    "#from astroML.plotting.tools import draw_ellipse\n",
    "import itertools\n",
    "from scipy import linalg\n",
    "import matplotlib as mpl\n",
    "from matplotlib.colors import LogNorm\n",
    "from sklearn import mixture\n",
    "from xdgmm import XDGMM\n",
    "# from astroML.density_estimation import XDGMM"
   ]
  },
  {
   "cell_type": "code",
   "execution_count": 2,
   "metadata": {},
   "outputs": [
    {
     "name": "stdout",
     "output_type": "stream",
     "text": [
      "[        nan -0.05794558  0.40968589  0.064       0.0715542 ]\n"
     ]
    }
   ],
   "source": [
    "arr = np.genfromtxt(\"hrdata_10yr_T90_Final_w_err copy.txt\", dtype=float,delimiter = \"\\t\")\n",
    "print(arr[503])"
   ]
  },
  {
   "cell_type": "code",
   "execution_count": 3,
   "metadata": {},
   "outputs": [
    {
     "name": "stdout",
     "output_type": "stream",
     "text": [
      "Error for this GRB [        nan -0.05794558  0.40968589  0.064       0.0715542 ] at index 503 is more than 0.3\n",
      "2329\n"
     ]
    }
   ],
   "source": [
    "t90=[]\n",
    "hr=[]\n",
    "dt90=[]\n",
    "dhr=[]\n",
    "COLUMN_T90_ERROR = 4\n",
    "COLUMN_T90 = 3\n",
    "COLUMN_HR_ERROR = 2\n",
    "COLUMN_HR = 1\n",
    "for i in range(len(arr)):\n",
    "    if arr[i][1] > 0 and arr[i][3] > 0:\n",
    "        t90.append(math.log(arr[i][3]))\n",
    "        hr.append(math.log(arr[i][1]))\n",
    "        dhr.append(arr[i][2] / arr[i][1])\n",
    "        dt90.append((arr[i][4]/arr[i][3]))\n",
    "    else:\n",
    "        print(\"Error for this GRB {} at index {} is more than 0.3\".format(arr[i], i))\n",
    "print(len(dt90))"
   ]
  },
  {
   "cell_type": "code",
   "execution_count": 4,
   "metadata": {},
   "outputs": [],
   "source": [
    "# stack the data \n",
    "X = np.vstack([t90, hr]).T\n",
    "X = X[~np.isnan(X).any(axis=1)]\n",
    "X = X[np.isfinite(X).any(axis=1)]\n",
    "\n",
    "#change list to matrix\n",
    "mat_dt90 = np.zeros(len(dt90))\n",
    "mat_dhr = np.zeros(len(dhr))\n",
    "for i in range(len(dhr)):\n",
    "    mat_dt90[i] = dt90[i]\n",
    "    mat_dhr[i] = dhr[i]\n",
    "\n",
    "# stack data error\n",
    "Xerr = np.zeros(X.shape + X.shape[-1:])\n",
    "diag = np.arange(X.shape[-1])\n",
    "Xerr[:, diag, diag] = np.vstack([mat_dt90**2, mat_dhr**2]).T"
   ]
  },
  {
   "cell_type": "code",
   "execution_count": 5,
   "metadata": {},
   "outputs": [],
   "source": [
    "# Define the range of component numbers, and get ready to compute the BIC for each one:\n",
    "param_range = np.arange(1,6)\n",
    "xdgmm = XDGMM()"
   ]
  },
  {
   "cell_type": "code",
   "execution_count": 6,
   "metadata": {},
   "outputs": [
    {
     "name": "stdout",
     "output_type": "stream",
     "text": [
      "N = 1 , BIC = 13406.952679253236\n",
      "N = 2 , BIC = 13036.842007520694\n",
      "N = 3 , BIC = 13039.040673659338\n",
      "N = 4 , BIC = 13084.923225929704\n",
      "N = 5 , BIC = 13116.296981461406\n",
      "N = 1 , AIC = 13378.186707903815  , means =  [[ 2.78924565 -0.34608799]]  , covars =  [[[ 2.32195192 -0.32696221]\n",
      "  [-0.32696221  0.33705603]]]  , weights =  [1.]\n",
      "N = 2 , AIC = 12973.556727463278  , means =  [[ 3.27467457 -0.45554521]\n",
      " [-0.09109043  0.340241  ]]  , covars =  [[[ 1.10582661 -0.04361838]\n",
      "  [-0.04361838  0.27912591]]\n",
      "\n",
      " [[ 0.97473858 -0.19527155]\n",
      "  [-0.19527155  0.23584168]]]  , weights =  [0.84539322 0.15460678]\n",
      "N = 3 , AIC = 12941.236371071303  , means =  [[ 3.70926858 -0.4574521 ]\n",
      " [ 2.58876556 -0.40840336]\n",
      " [-0.41296188  0.4319021 ]]  , covars =  [[[ 0.7558753  -0.0375553 ]\n",
      "  [-0.0375553   0.18871536]]\n",
      "\n",
      " [[ 1.27593653 -0.11251407]\n",
      "  [-0.11251407  0.40638448]]\n",
      "\n",
      " [[ 0.65283279 -0.17677091]\n",
      "  [-0.17677091  0.17717661]]]  , weights =  [0.45999029 0.42279306 0.11721665]\n",
      "N = 4 , AIC = 12952.567144732824  , means =  [[ 3.96173137 -0.46749333]\n",
      " [ 1.76244534 -0.41461742]\n",
      " [-0.50465712  0.44926354]\n",
      " [ 3.18424935 -0.40734472]]  , covars =  [[[ 0.70074762 -0.03157382]\n",
      "  [-0.03157382  0.16664331]]\n",
      "\n",
      " [[ 0.76498443 -0.15619674]\n",
      "  [-0.15619674  0.37661191]]\n",
      "\n",
      " [[ 0.58756148 -0.12395064]\n",
      "  [-0.12395064  0.18397381]]\n",
      "\n",
      " [[ 0.65356032 -0.08583133]\n",
      "  [-0.08583133  0.35339664]]]  , weights =  [0.31421614 0.1877274  0.11102012 0.38703633]\n",
      "N = 5 , AIC = 12949.665493352437  , means =  [[ 0.8060504   0.16759392]\n",
      " [ 2.31913284 -0.53915345]\n",
      " [ 3.33748799 -0.44185603]\n",
      " [-0.77268581  0.53971648]\n",
      " [ 4.02494918 -0.47487903]]  , covars =  [[[ 1.52254635 -0.12123512]\n",
      "  [-0.12123512  0.21187724]]\n",
      "\n",
      " [[ 0.64431303  0.03992438]\n",
      "  [ 0.03992438  0.28000478]]\n",
      "\n",
      " [[ 0.51963803 -0.0791079 ]\n",
      "  [-0.0791079   0.38119335]]\n",
      "\n",
      " [[ 0.29141549 -0.19855034]\n",
      "  [-0.19855034  0.17874177]]\n",
      "\n",
      " [[ 0.65859838 -0.02904516]\n",
      "  [-0.02904516  0.16690666]]]  , weights =  [0.13548694 0.21370974 0.28464322 0.0578232  0.3083369 ]\n"
     ]
    }
   ],
   "source": [
    "bic, optimal_n_comp, lowest_bic = xdgmm.bic_test(X, Xerr, param_range)\n",
    "aic, optimal_n_comp, lowest_aic = xdgmm.aic_test(X, Xerr, param_range)"
   ]
  },
  {
   "cell_type": "code",
   "execution_count": 10,
   "metadata": {},
   "outputs": [
    {
     "name": "stdout",
     "output_type": "stream",
     "text": [
      "Aic diff : 32.3203563919742\n",
      "Bic diff : -2.1986661386436026\n",
      "3\n"
     ]
    }
   ],
   "source": [
    "print(\"Aic diff : {}\".format(aic[1]-aic[2]))\n",
    "print(\"Bic diff : {}\".format(bic[1]-bic[2]))\n",
    "print(optimal_n_comp)"
   ]
  },
  {
   "cell_type": "code",
   "execution_count": null,
   "metadata": {},
   "outputs": [],
   "source": []
  },
  {
   "cell_type": "markdown",
   "metadata": {},
   "source": [
    "https://www.astroml.org/book_figures/chapter6/fig_stellar_XD.html"
   ]
  },
  {
   "cell_type": "code",
   "execution_count": 7,
   "metadata": {},
   "outputs": [
    {
     "data": {
      "image/png": "[encoded data removed]",
      "text/plain": [
       "<Figure size 432x288 with 1 Axes>"
      ]
     },
     "metadata": {
      "needs_background": "light"
     },
     "output_type": "display_data"
    }
   ],
   "source": [
    "plt.plot(param_range, aic, '-k', label='AIC',color ='blue', marker='o',lw=2)\n",
    "plt.plot(param_range, bic, ':k', label='BIC', color = 'red', marker='^',lw=2)\n",
    "plt.legend(loc=1)\n",
    "plt.xlabel('Number of components',size=20 )\n",
    "plt.ylabel('AIC/BIC', size=20)\n",
    "plt.show()"
   ]
  },
  {
   "cell_type": "code",
   "execution_count": null,
   "metadata": {},
   "outputs": [],
   "source": []
  }
 ],
 "metadata": {
  "kernelspec": {
   "display_name": "Python 3",
   "language": "python",
   "name": "python3"
  },
  "language_info": {
   "codemirror_mode": {
    "name": "ipython",
    "version": 3
   },
   "file_extension": ".py",
   "mimetype": "text/x-python",
   "name": "python",
   "nbconvert_exporter": "python",
   "pygments_lexer": "ipython3",
   "version": "3.6.8"
  }
 },
 "nbformat": 4,
 "nbformat_minor": 2
}
